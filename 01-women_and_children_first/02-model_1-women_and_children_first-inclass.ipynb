{
 "cells": [
  {
   "cell_type": "markdown",
   "metadata": {},
   "source": [
    "## Domain\n",
    "\n",
    "This is an introductory data set considered the \"hello world\" of data science. It is an ongoing competition on Kaggle allowing students of data science to prepare a model and make a submission to a competition while they are still learning the subject. "
   ]
  },
  {
   "cell_type": "markdown",
   "metadata": {},
   "source": [
    "## Problem\n",
    "\n",
    "This is a binary classification problem in which the challenge is to predict whether a passenger survived the sinking of the Titanic given the demographic data of the passengers. Here, the task $T$ is a binary classification and the experience $E$ is the list of passengers and their survival outcome. "
   ]
  },
  {
   "cell_type": "markdown",
   "metadata": {},
   "source": [
    "Note `read.table` and `read.csv` are equivalent accept for the default args. `read.table` defaults to separating on white space. `read.csv` defaults to separating on commas."
   ]
  },
  {
   "cell_type": "markdown",
   "metadata": {},
   "source": [
    "## Solution\n",
    "\n",
    "To solve this problem, we will generate a vector of integers using filtering and masking."
   ]
  },
  {
   "cell_type": "code",
   "execution_count": 16,
   "metadata": {},
   "outputs": [
    {
     "name": "stdout",
     "output_type": "stream",
     "text": [
      " [1]  1  2  3  4  5  6  7  8  9 10 11 12 13 14 15 16 17 18 19 20\n"
     ]
    },
    {
     "ename": "ERROR",
     "evalue": "Error in res%%3: non-numeric argument to binary operator\n",
     "output_type": "error",
     "traceback": [
      "Error in res%%3: non-numeric argument to binary operator\nTraceback:\n",
      "1. fizzbuzz(18)"
     ]
    }
   ],
   "source": [
    "fizzbuzz <- function (n) { \n",
    "    res <- 1:20\n",
    "    print(res)\n",
    "    #print(length(res))\n",
    "    res[res %%3 & res %% 5 == 0]<- \"fizzbuzz\"\n",
    "    \n",
    "    res[res %%3 & res %% 5 != 0]<- \"fizz\"\n",
    "  \n",
    "    res[res %%5 & res %% 3 != 0]<- \"buzz\"\n",
    "    print(res)\n",
    "    return(res)\n",
    "    }\n",
    "fizzbuzz(18)\n"
   ]
  },
  {
   "cell_type": "code",
   "execution_count": 17,
   "metadata": {},
   "outputs": [
    {
     "data": {
      "text/html": [
       "<table>\n",
       "<thead><tr><th scope=col>Survived</th><th scope=col>Pclass</th><th scope=col>Sex</th><th scope=col>Age</th><th scope=col>SibSp</th><th scope=col>Parch</th><th scope=col>Ticket</th><th scope=col>Fare</th><th scope=col>Cabin</th><th scope=col>Embarked</th></tr></thead>\n",
       "<tbody>\n",
       "\t<tr><td>0               </td><td>3               </td><td>male            </td><td>22              </td><td>1               </td><td>0               </td><td>A/5 21171       </td><td> 7.2500         </td><td>                </td><td>S               </td></tr>\n",
       "\t<tr><td>1               </td><td>1               </td><td>female          </td><td>38              </td><td>1               </td><td>0               </td><td>PC 17599        </td><td>71.2833         </td><td>C85             </td><td>C               </td></tr>\n",
       "\t<tr><td>1               </td><td>3               </td><td>female          </td><td>26              </td><td>0               </td><td>0               </td><td>STON/O2. 3101282</td><td> 7.9250         </td><td>                </td><td>S               </td></tr>\n",
       "\t<tr><td>1               </td><td>1               </td><td>female          </td><td>35              </td><td>1               </td><td>0               </td><td>113803          </td><td>53.1000         </td><td>C123            </td><td>S               </td></tr>\n",
       "\t<tr><td>0               </td><td>3               </td><td>male            </td><td>35              </td><td>0               </td><td>0               </td><td>373450          </td><td> 8.0500         </td><td>                </td><td>S               </td></tr>\n",
       "\t<tr><td>0               </td><td>3               </td><td>male            </td><td>NA              </td><td>0               </td><td>0               </td><td>330877          </td><td> 8.4583         </td><td>                </td><td>Q               </td></tr>\n",
       "\t<tr><td>0               </td><td>1               </td><td>male            </td><td>54              </td><td>0               </td><td>0               </td><td>17463           </td><td>51.8625         </td><td>E46             </td><td>S               </td></tr>\n",
       "\t<tr><td>0               </td><td>3               </td><td>male            </td><td> 2              </td><td>3               </td><td>1               </td><td>349909          </td><td>21.0750         </td><td>                </td><td>S               </td></tr>\n",
       "\t<tr><td>1               </td><td>3               </td><td>female          </td><td>27              </td><td>0               </td><td>2               </td><td>347742          </td><td>11.1333         </td><td>                </td><td>S               </td></tr>\n",
       "\t<tr><td>1               </td><td>2               </td><td>female          </td><td>14              </td><td>1               </td><td>0               </td><td>237736          </td><td>30.0708         </td><td>                </td><td>C               </td></tr>\n",
       "\t<tr><td>1               </td><td>3               </td><td>female          </td><td> 4              </td><td>1               </td><td>1               </td><td>PP 9549         </td><td>16.7000         </td><td>G6              </td><td>S               </td></tr>\n",
       "\t<tr><td>1               </td><td>1               </td><td>female          </td><td>58              </td><td>0               </td><td>0               </td><td>113783          </td><td>26.5500         </td><td>C103            </td><td>S               </td></tr>\n",
       "\t<tr><td>0               </td><td>3               </td><td>male            </td><td>20              </td><td>0               </td><td>0               </td><td>A/5. 2151       </td><td> 8.0500         </td><td>                </td><td>S               </td></tr>\n",
       "\t<tr><td>0               </td><td>3               </td><td>male            </td><td>39              </td><td>1               </td><td>5               </td><td>347082          </td><td>31.2750         </td><td>                </td><td>S               </td></tr>\n",
       "\t<tr><td>0               </td><td>3               </td><td>female          </td><td>14              </td><td>0               </td><td>0               </td><td>350406          </td><td> 7.8542         </td><td>                </td><td>S               </td></tr>\n",
       "\t<tr><td>1               </td><td>2               </td><td>female          </td><td>55              </td><td>0               </td><td>0               </td><td>248706          </td><td>16.0000         </td><td>                </td><td>S               </td></tr>\n",
       "\t<tr><td>0               </td><td>3               </td><td>male            </td><td> 2              </td><td>4               </td><td>1               </td><td>382652          </td><td>29.1250         </td><td>                </td><td>Q               </td></tr>\n",
       "\t<tr><td>1               </td><td>2               </td><td>male            </td><td>NA              </td><td>0               </td><td>0               </td><td>244373          </td><td>13.0000         </td><td>                </td><td>S               </td></tr>\n",
       "</tbody>\n",
       "</table>\n"
      ],
      "text/latex": [
       "\\begin{tabular}{r|llllllllll}\n",
       " Survived & Pclass & Sex & Age & SibSp & Parch & Ticket & Fare & Cabin & Embarked\\\\\n",
       "\\hline\n",
       "\t 0                & 3                & male             & 22               & 1                & 0                & A/5 21171        &  7.2500          &                  & S               \\\\\n",
       "\t 1                & 1                & female           & 38               & 1                & 0                & PC 17599         & 71.2833          & C85              & C               \\\\\n",
       "\t 1                & 3                & female           & 26               & 0                & 0                & STON/O2. 3101282 &  7.9250          &                  & S               \\\\\n",
       "\t 1                & 1                & female           & 35               & 1                & 0                & 113803           & 53.1000          & C123             & S               \\\\\n",
       "\t 0                & 3                & male             & 35               & 0                & 0                & 373450           &  8.0500          &                  & S               \\\\\n",
       "\t 0                & 3                & male             & NA               & 0                & 0                & 330877           &  8.4583          &                  & Q               \\\\\n",
       "\t 0                & 1                & male             & 54               & 0                & 0                & 17463            & 51.8625          & E46              & S               \\\\\n",
       "\t 0                & 3                & male             &  2               & 3                & 1                & 349909           & 21.0750          &                  & S               \\\\\n",
       "\t 1                & 3                & female           & 27               & 0                & 2                & 347742           & 11.1333          &                  & S               \\\\\n",
       "\t 1                & 2                & female           & 14               & 1                & 0                & 237736           & 30.0708          &                  & C               \\\\\n",
       "\t 1                & 3                & female           &  4               & 1                & 1                & PP 9549          & 16.7000          & G6               & S               \\\\\n",
       "\t 1                & 1                & female           & 58               & 0                & 0                & 113783           & 26.5500          & C103             & S               \\\\\n",
       "\t 0                & 3                & male             & 20               & 0                & 0                & A/5. 2151        &  8.0500          &                  & S               \\\\\n",
       "\t 0                & 3                & male             & 39               & 1                & 5                & 347082           & 31.2750          &                  & S               \\\\\n",
       "\t 0                & 3                & female           & 14               & 0                & 0                & 350406           &  7.8542          &                  & S               \\\\\n",
       "\t 1                & 2                & female           & 55               & 0                & 0                & 248706           & 16.0000          &                  & S               \\\\\n",
       "\t 0                & 3                & male             &  2               & 4                & 1                & 382652           & 29.1250          &                  & Q               \\\\\n",
       "\t 1                & 2                & male             & NA               & 0                & 0                & 244373           & 13.0000          &                  & S               \\\\\n",
       "\\end{tabular}\n"
      ],
      "text/markdown": [
       "\n",
       "Survived | Pclass | Sex | Age | SibSp | Parch | Ticket | Fare | Cabin | Embarked | \n",
       "|---|---|---|---|---|---|---|---|---|---|---|---|---|---|---|---|---|---|\n",
       "| 0                | 3                | male             | 22               | 1                | 0                | A/5 21171        |  7.2500          |                  | S                | \n",
       "| 1                | 1                | female           | 38               | 1                | 0                | PC 17599         | 71.2833          | C85              | C                | \n",
       "| 1                | 3                | female           | 26               | 0                | 0                | STON/O2. 3101282 |  7.9250          |                  | S                | \n",
       "| 1                | 1                | female           | 35               | 1                | 0                | 113803           | 53.1000          | C123             | S                | \n",
       "| 0                | 3                | male             | 35               | 0                | 0                | 373450           |  8.0500          |                  | S                | \n",
       "| 0                | 3                | male             | NA               | 0                | 0                | 330877           |  8.4583          |                  | Q                | \n",
       "| 0                | 1                | male             | 54               | 0                | 0                | 17463            | 51.8625          | E46              | S                | \n",
       "| 0                | 3                | male             |  2               | 3                | 1                | 349909           | 21.0750          |                  | S                | \n",
       "| 1                | 3                | female           | 27               | 0                | 2                | 347742           | 11.1333          |                  | S                | \n",
       "| 1                | 2                | female           | 14               | 1                | 0                | 237736           | 30.0708          |                  | C                | \n",
       "| 1                | 3                | female           |  4               | 1                | 1                | PP 9549          | 16.7000          | G6               | S                | \n",
       "| 1                | 1                | female           | 58               | 0                | 0                | 113783           | 26.5500          | C103             | S                | \n",
       "| 0                | 3                | male             | 20               | 0                | 0                | A/5. 2151        |  8.0500          |                  | S                | \n",
       "| 0                | 3                | male             | 39               | 1                | 5                | 347082           | 31.2750          |                  | S                | \n",
       "| 0                | 3                | female           | 14               | 0                | 0                | 350406           |  7.8542          |                  | S                | \n",
       "| 1                | 2                | female           | 55               | 0                | 0                | 248706           | 16.0000          |                  | S                | \n",
       "| 0                | 3                | male             |  2               | 4                | 1                | 382652           | 29.1250          |                  | Q                | \n",
       "| 1                | 2                | male             | NA               | 0                | 0                | 244373           | 13.0000          |                  | S                | \n",
       "\n",
       "\n"
      ],
      "text/plain": [
       "   Survived Pclass Sex    Age SibSp Parch Ticket           Fare    Cabin\n",
       "1  0        3      male   22  1     0     A/5 21171         7.2500      \n",
       "2  1        1      female 38  1     0     PC 17599         71.2833 C85  \n",
       "3  1        3      female 26  0     0     STON/O2. 3101282  7.9250      \n",
       "4  1        1      female 35  1     0     113803           53.1000 C123 \n",
       "5  0        3      male   35  0     0     373450            8.0500      \n",
       "6  0        3      male   NA  0     0     330877            8.4583      \n",
       "7  0        1      male   54  0     0     17463            51.8625 E46  \n",
       "8  0        3      male    2  3     1     349909           21.0750      \n",
       "9  1        3      female 27  0     2     347742           11.1333      \n",
       "10 1        2      female 14  1     0     237736           30.0708      \n",
       "11 1        3      female  4  1     1     PP 9549          16.7000 G6   \n",
       "12 1        1      female 58  0     0     113783           26.5500 C103 \n",
       "13 0        3      male   20  0     0     A/5. 2151         8.0500      \n",
       "14 0        3      male   39  1     5     347082           31.2750      \n",
       "15 0        3      female 14  0     0     350406            7.8542      \n",
       "16 1        2      female 55  0     0     248706           16.0000      \n",
       "17 0        3      male    2  4     1     382652           29.1250      \n",
       "18 1        2      male   NA  0     0     244373           13.0000      \n",
       "   Embarked\n",
       "1  S       \n",
       "2  C       \n",
       "3  S       \n",
       "4  S       \n",
       "5  S       \n",
       "6  Q       \n",
       "7  S       \n",
       "8  S       \n",
       "9  S       \n",
       "10 C       \n",
       "11 S       \n",
       "12 S       \n",
       "13 S       \n",
       "14 S       \n",
       "15 S       \n",
       "16 S       \n",
       "17 Q       \n",
       "18 S       "
      ]
     },
     "metadata": {},
     "output_type": "display_data"
    }
   ],
   "source": [
    "titanic <- read.table('train.csv', sep=\",\", header = T)\n",
    "rownames(titanic) <- titanic$PassengerId\n",
    "titanic$PassengerId <- NULL\n",
    "titanic$Name <- NULL\n",
    "head(titanic, 18)"
   ]
  },
  {
   "cell_type": "markdown",
   "metadata": {},
   "source": [
    "## Data Exploration"
   ]
  },
  {
   "cell_type": "code",
   "execution_count": 18,
   "metadata": {},
   "outputs": [
    {
     "data": {
      "text/html": [
       "<dl class=dl-horizontal>\n",
       "\t<dt>female</dt>\n",
       "\t\t<dd>314</dd>\n",
       "\t<dt>male</dt>\n",
       "\t\t<dd>577</dd>\n",
       "</dl>\n"
      ],
      "text/latex": [
       "\\begin{description*}\n",
       "\\item[female] 314\n",
       "\\item[male] 577\n",
       "\\end{description*}\n"
      ],
      "text/markdown": [
       "female\n",
       ":   314male\n",
       ":   577\n",
       "\n"
      ],
      "text/plain": [
       "female   male \n",
       "   314    577 "
      ]
     },
     "metadata": {},
     "output_type": "display_data"
    }
   ],
   "source": [
    "summary(titanic$Sex)"
   ]
  },
  {
   "cell_type": "markdown",
   "metadata": {},
   "source": [
    "### Use a Proporation Table to Look at Survival by Gender"
   ]
  },
  {
   "cell_type": "markdown",
   "metadata": {},
   "source": [
    "This represents the proportion of all passengers in each group."
   ]
  },
  {
   "cell_type": "code",
   "execution_count": 19,
   "metadata": {
    "scrolled": false
   },
   "outputs": [
    {
     "data": {
      "text/plain": [
       "        \n",
       "                  0          1\n",
       "  female 0.09090909 0.26150393\n",
       "  male   0.52525253 0.12233446"
      ]
     },
     "metadata": {},
     "output_type": "display_data"
    }
   ],
   "source": [
    "prop.table(table(titanic$Sex, titanic$Survived))"
   ]
  },
  {
   "cell_type": "code",
   "execution_count": null,
   "metadata": {},
   "outputs": [],
   "source": []
  },
  {
   "cell_type": "markdown",
   "metadata": {},
   "source": [
    "This represents the proportion of survival by gender."
   ]
  },
  {
   "cell_type": "code",
   "execution_count": null,
   "metadata": {},
   "outputs": [],
   "source": []
  },
  {
   "cell_type": "code",
   "execution_count": null,
   "metadata": {},
   "outputs": [],
   "source": []
  },
  {
   "cell_type": "code",
   "execution_count": 20,
   "metadata": {},
   "outputs": [
    {
     "data": {
      "text/plain": [
       "        \n",
       "                 0         1\n",
       "  female 0.2579618 0.7420382\n",
       "  male   0.8110919 0.1889081"
      ]
     },
     "metadata": {},
     "output_type": "display_data"
    }
   ],
   "source": [
    "prop.table(table(titanic$Sex, titanic$Survived), 1)"
   ]
  },
  {
   "cell_type": "markdown",
   "metadata": {},
   "source": [
    "This represents the proportion of gender by survival."
   ]
  },
  {
   "cell_type": "code",
   "execution_count": 21,
   "metadata": {},
   "outputs": [
    {
     "data": {
      "text/plain": [
       "        \n",
       "                 0         1\n",
       "  female 0.1475410 0.6812865\n",
       "  male   0.8524590 0.3187135"
      ]
     },
     "metadata": {},
     "output_type": "display_data"
    }
   ],
   "source": [
    "prop.table(table(titanic$Sex, titanic$Survived), 2)"
   ]
  },
  {
   "cell_type": "markdown",
   "metadata": {},
   "source": [
    "### Use a Proporation Table to Look at Survival of Children"
   ]
  },
  {
   "cell_type": "code",
   "execution_count": 22,
   "metadata": {
    "scrolled": true
   },
   "outputs": [
    {
     "data": {
      "text/plain": [
       "       \n",
       "                0         1\n",
       "  FALSE 0.6134969 0.3865031\n",
       "  TRUE  0.3870968 0.6129032"
      ]
     },
     "metadata": {},
     "output_type": "display_data"
    }
   ],
   "source": [
    "prop.table(table(titanic$Age < 10, titanic$Survived), 1)"
   ]
  },
  {
   "cell_type": "code",
   "execution_count": 23,
   "metadata": {},
   "outputs": [
    {
     "data": {
      "text/plain": [
       "       \n",
       "                 0          1\n",
       "  FALSE 0.94339623 0.86896552\n",
       "  TRUE  0.05660377 0.13103448"
      ]
     },
     "metadata": {},
     "output_type": "display_data"
    }
   ],
   "source": [
    "prop.table(table(titanic$Age < 10, titanic$Survived), 2)"
   ]
  },
  {
   "cell_type": "markdown",
   "metadata": {},
   "source": [
    "## Benchmark Model"
   ]
  },
  {
   "cell_type": "code",
   "execution_count": 24,
   "metadata": {},
   "outputs": [],
   "source": [
    "verify_length <- function (v1, v2 ){\n",
    "    if (length(v1) != length(v2)) {\n",
    "        stop('length of vectors do not match') \n",
    "    }\n",
    "}\n",
    "\n",
    "accuracy <- function (actual, predicted) {\n",
    "    verify_length(actual, predicted)\n",
    "    return(sum(actual == predicted)/length(actual))\n",
    "}"
   ]
  },
  {
   "cell_type": "code",
   "execution_count": 25,
   "metadata": {
    "scrolled": true
   },
   "outputs": [
    {
     "data": {
      "text/html": [
       "0.616161616161616"
      ],
      "text/latex": [
       "0.616161616161616"
      ],
      "text/markdown": [
       "0.616161616161616"
      ],
      "text/plain": [
       "[1] 0.6161616"
      ]
     },
     "metadata": {},
     "output_type": "display_data"
    }
   ],
   "source": [
    "no_survivors <- rep(0, length(titanic$Survived))\n",
    "accuracy(titanic$Survived, no_survivors)"
   ]
  },
  {
   "cell_type": "markdown",
   "metadata": {},
   "source": [
    "## Women Survived"
   ]
  },
  {
   "cell_type": "code",
   "execution_count": 26,
   "metadata": {},
   "outputs": [
    {
     "data": {
      "text/html": [
       "0.78675645342312"
      ],
      "text/latex": [
       "0.78675645342312"
      ],
      "text/markdown": [
       "0.78675645342312"
      ],
      "text/plain": [
       "[1] 0.7867565"
      ]
     },
     "metadata": {},
     "output_type": "display_data"
    }
   ],
   "source": [
    "women_survived <- titanic$Sex == 'female'\n",
    "accuracy(titanic$Survived, women_survived)"
   ]
  },
  {
   "cell_type": "markdown",
   "metadata": {},
   "source": [
    "## Children Survived"
   ]
  },
  {
   "cell_type": "code",
   "execution_count": 27,
   "metadata": {},
   "outputs": [],
   "source": [
    "women_and_children_survived <- women_survived\n",
    "women_and_children_survived[titanic$Age < 10] <- 1"
   ]
  },
  {
   "cell_type": "code",
   "execution_count": 28,
   "metadata": {},
   "outputs": [
    {
     "data": {
      "text/html": [
       "0.793490460157127"
      ],
      "text/latex": [
       "0.793490460157127"
      ],
      "text/markdown": [
       "0.793490460157127"
      ],
      "text/plain": [
       "[1] 0.7934905"
      ]
     },
     "metadata": {},
     "output_type": "display_data"
    }
   ],
   "source": [
    "accuracy(titanic$Survived, women_and_children_survived)"
   ]
  },
  {
   "cell_type": "code",
   "execution_count": null,
   "metadata": {},
   "outputs": [],
   "source": []
  }
 ],
 "metadata": {
  "kernelspec": {
   "display_name": "R",
   "language": "R",
   "name": "ir"
  },
  "language_info": {
   "codemirror_mode": "r",
   "file_extension": ".r",
   "mimetype": "text/x-r-source",
   "name": "R",
   "pygments_lexer": "r",
   "version": "3.3.2"
  }
 },
 "nbformat": 4,
 "nbformat_minor": 2
}
