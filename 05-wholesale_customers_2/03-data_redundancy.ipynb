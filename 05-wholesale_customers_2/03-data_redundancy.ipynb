{
 "cells": [
  {
   "cell_type": "code",
   "execution_count": 1,
   "metadata": {},
   "outputs": [],
   "source": [
    "import pandas as pd\n",
    "import numpy as np\n",
    "import seaborn as sns\n",
    "import matplotlib.pyplot as plt\n",
    "%matplotlib inline"
   ]
  },
  {
   "cell_type": "code",
   "execution_count": 2,
   "metadata": {},
   "outputs": [],
   "source": [
    "customer_df = pd.read_csv('Wholesale_customers_data.csv')\n",
    "customer_df.drop(['Channel', 'Region'], axis=1, inplace=True)"
   ]
  },
  {
   "cell_type": "code",
   "execution_count": 4,
   "metadata": {},
   "outputs": [
    {
     "name": "stdout",
     "output_type": "stream",
     "text": [
      "     Fresh   Milk  Grocery  Frozen  Detergents_Paper  Delicatessen\n",
      "0    12669   9656     7561     214              2674          1338\n",
      "1     7057   9810     9568    1762              3293          1776\n",
      "2     6353   8808     7684    2405              3516          7844\n",
      "3    13265   1196     4221    6404               507          1788\n",
      "4    22615   5410     7198    3915              1777          5185\n",
      "5     9413   8259     5126     666              1795          1451\n",
      "6    12126   3199     6975     480              3140           545\n",
      "7     7579   4956     9426    1669              3321          2566\n",
      "8     5963   3648     6192     425              1716           750\n",
      "9     6006  11093    18881    1159              7425          2098\n",
      "10    3366   5403    12974    4400              5977          1744\n",
      "11   13146   1124     4523    1420               549           497\n",
      "12   31714  12319    11757     287              3881          2931\n",
      "13   21217   6208    14982    3095              6707           602\n",
      "14   24653   9465    12091     294              5058          2168\n",
      "15   10253   1114     3821     397               964           412\n",
      "16    1020   8816    12121     134              4508          1080\n",
      "17    5876   6157     2933     839               370          4478\n",
      "18   18601   6327    10099    2205              2767          3181\n",
      "19    7780   2495     9464     669              2518           501\n",
      "20   17546   4519     4602    1066              2259          2124\n",
      "21    5567    871     2010    3383               375           569\n",
      "22   31276   1917     4469    9408              2381          4334\n",
      "23   26373  36423    22019    5154              4337         16523\n",
      "24   22647   9776    13792    2915              4482          5778\n",
      "25   16165   4230     7595     201              4003            57\n",
      "26    9898    961     2861    3151               242           833\n",
      "27   14276    803     3045     485               100           518\n",
      "28    4113  20484    25957    1158              8604          5206\n",
      "29   43088   2100     2609    1200              1107           823\n",
      "..     ...    ...      ...     ...               ...           ...\n",
      "410   6633   2096     4563    1389              1860          1892\n",
      "411   2126   3289     3281    1535               235          4365\n",
      "412     97   3605    12400      98              2970            62\n",
      "413   4983   4859     6633   17866               912          2435\n",
      "414   5969   1990     3417    5679              1135           290\n",
      "415   7842   6046     8552    1691              3540          1874\n",
      "416   4389  10940    10908     848              6728           993\n",
      "417   5065   5499    11055     364              3485          1063\n",
      "418    660   8494    18622     133              6740           776\n",
      "419   8861   3783     2223     633              1580          1521\n",
      "420   4456   5266    13227      25              6818          1393\n",
      "421  17063   4847     9053    1031              3415          1784\n",
      "422  26400   1377     4172     830               948          1218\n",
      "423  17565   3686     4657    1059              1803           668\n",
      "424  16980   2884    12232     874              3213           249\n",
      "425  11243   2408     2593   15348               108          1886\n",
      "426  13134   9347    14316    3141              5079          1894\n",
      "427  31012  16687     5429   15082               439          1163\n",
      "428   3047   5970     4910    2198               850           317\n",
      "429   8607   1750     3580      47                84          2501\n",
      "430   3097   4230    16483     575               241          2080\n",
      "431   8533   5506     5160   13486              1377          1498\n",
      "432  21117   1162     4754     269              1328           395\n",
      "433   1982   3218     1493    1541               356          1449\n",
      "434  16731   3922     7994     688              2371           838\n",
      "435  29703  12051    16027   13135               182          2204\n",
      "436  39228   1431      764    4510                93          2346\n",
      "437  14531  15488    30243     437             14841          1867\n",
      "438  10290   1981     2232    1038               168          2125\n",
      "439   2787   1698     2510      65               477            52\n",
      "\n",
      "[440 rows x 6 columns]\n"
     ]
    }
   ],
   "source": [
    "customer_df.shape\n",
    "print ( customer_df)"
   ]
  },
  {
   "cell_type": "markdown",
   "metadata": {},
   "source": [
    "# Correlation and Redundancy\n",
    "\n",
    "I claim that there is correlation and redundancy in the `customer` table. What I mean by this is that some features are linear combinations of other features. "
   ]
  },
  {
   "cell_type": "markdown",
   "metadata": {},
   "source": [
    "Let's examine redundancy by dropping a feature and seeing if the other features can predict it."
   ]
  },
  {
   "cell_type": "code",
   "execution_count": 5,
   "metadata": {},
   "outputs": [],
   "source": [
    "from sklearn.model_selection import train_test_split\n",
    "from sklearn.neighbors import KNeighborsRegressor"
   ]
  },
  {
   "cell_type": "code",
   "execution_count": 11,
   "metadata": {},
   "outputs": [],
   "source": [
    "def calculate_r_2_for_feature(data,feature):\n",
    "    new_data = data.drop(feature, axis=1)\n",
    "\n",
    "    X_train, \\\n",
    "    X_test,  \\\n",
    "    y_train, \\\n",
    "    y_test = train_test_split(\n",
    "        new_data,data[feature],test_size=0.25\n",
    "    )\n",
    "\n",
    "    regressor = KNeighborsRegressor()\n",
    "    regressor.fit(X_train,y_train)\n",
    "\n",
    "    score = regressor.score(X_test,y_test)\n",
    "    return score"
   ]
  },
  {
   "cell_type": "code",
   "execution_count": 12,
   "metadata": {},
   "outputs": [
    {
     "data": {
      "text/plain": [
       "0.86506646635978857"
      ]
     },
     "execution_count": 12,
     "metadata": {},
     "output_type": "execute_result"
    }
   ],
   "source": [
    "calculate_r_2_for_feature(customer_df,'Detergents_Paper')"
   ]
  },
  {
   "cell_type": "code",
   "execution_count": 13,
   "metadata": {},
   "outputs": [
    {
     "name": "stdout",
     "output_type": "stream",
     "text": [
      "Delicatessen:            0.15586554770022232\n",
      "Degergents_paper:        0.6399811022083208\n",
      "Fresh:                   0.25319390497631455\n",
      "Frozen:                  0.040778056045101874\n",
      "Grocery:                 0.7768672121473145\n",
      "Milk:                    0.6297862446302848\n"
     ]
    }
   ],
   "source": [
    "print(\"{:24} {}\".format(\"Delicatessen: \", calculate_r_2_for_feature(customer_df,'Delicatessen')))\n",
    "print(\"{:24} {}\".format(\"Degergents_paper: \", calculate_r_2_for_feature(customer_df,'Detergents_Paper')))\n",
    "print(\"{:24} {}\".format(\"Fresh: \", calculate_r_2_for_feature(customer_df,'Fresh')))\n",
    "print(\"{:24} {}\".format(\"Frozen: \", calculate_r_2_for_feature(customer_df,'Frozen')))\n",
    "print(\"{:24} {}\".format(\"Grocery: \", calculate_r_2_for_feature(customer_df,'Grocery')))\n",
    "print(\"{:24} {}\".format(\"Milk: \", calculate_r_2_for_feature(customer_df,'Milk')))"
   ]
  },
  {
   "cell_type": "markdown",
   "metadata": {},
   "source": [
    "But this is subject to randomness. There is randomness in my `train_test_split`. Let's do the whole thing many times and take the average. "
   ]
  },
  {
   "cell_type": "code",
   "execution_count": 9,
   "metadata": {},
   "outputs": [],
   "source": [
    "def mean_r2_for_feature(data, feature):\n",
    "    scores = []\n",
    "    for _ in range(100):\n",
    "        scores.append(calculate_r_2_for_feature(data, feature))\n",
    "        \n",
    "    scores = np.array(scores)\n",
    "    return scores.mean()"
   ]
  },
  {
   "cell_type": "code",
   "execution_count": 10,
   "metadata": {},
   "outputs": [
    {
     "name": "stdout",
     "output_type": "stream",
     "text": [
      "Delicatessen:            -0.01606296011321544\n",
      "Detergents_Paper:        0.7666783320492304\n",
      "Fresh:                   0.026939800816412653\n",
      "Frozen:                  0.06289045092703353\n",
      "Grocery:                 0.7309199813434732\n",
      "Milk:                    0.45167851780219714\n"
     ]
    }
   ],
   "source": [
    "print(\"{:24} {}\".format(\"Delicatessen: \", mean_r2_for_feature(customer_df,'Delicatessen')))\n",
    "print(\"{:24} {}\".format(\"Detergents_Paper: \", mean_r2_for_feature(customer_df,'Detergents_Paper')))\n",
    "print(\"{:24} {}\".format(\"Fresh: \", mean_r2_for_feature(customer_df,'Fresh')))\n",
    "print(\"{:24} {}\".format(\"Frozen: \", mean_r2_for_feature(customer_df,'Frozen')))\n",
    "print(\"{:24} {}\".format(\"Grocery: \", mean_r2_for_feature(customer_df,'Grocery')))\n",
    "print(\"{:24} {}\".format(\"Milk: \", mean_r2_for_feature(customer_df,'Milk')))"
   ]
  },
  {
   "cell_type": "code",
   "execution_count": null,
   "metadata": {},
   "outputs": [],
   "source": [
    "print(\"{:24} {}\".format(\"Delicatessen: \", mean_r2_for_feature(customer_df,'Delicatessen')))\n",
    "print(\"{:24} {}\".format(\"Detergents_Paper: \", mean_r2_for_feature(customer_df,'Detergents_Paper')))\n",
    "print(\"{:24} {}\".format(\"Fresh: \", mean_r2_for_feature(customer_df,'Fresh')))\n",
    "print(\"{:24} {}\".format(\"Frozen: \", mean_r2_for_feature(customer_df,'Frozen')))\n",
    "print(\"{:24} {}\".format(\"Grocery: \", mean_r2_for_feature(customer_df,'Grocery')))\n",
    "print(\"{:24} {}\".format(\"Milk: \", mean_r2_for_feature(customer_df,'Milk')))"
   ]
  },
  {
   "cell_type": "markdown",
   "metadata": {},
   "source": [
    "#### Discussion\n",
    "\n",
    "What does this tell us?"
   ]
  },
  {
   "cell_type": "code",
   "execution_count": null,
   "metadata": {},
   "outputs": [],
   "source": []
  },
  {
   "cell_type": "markdown",
   "metadata": {},
   "source": [
    "## Visualize Redundancy"
   ]
  },
  {
   "cell_type": "markdown",
   "metadata": {},
   "source": [
    "Study the correlation of the data."
   ]
  },
  {
   "cell_type": "code",
   "execution_count": null,
   "metadata": {},
   "outputs": [],
   "source": [
    "import time\n",
    "start = time.time()\n",
    "sns.pairplot(customer_df, kind='reg')\n",
    "print(time.time() - start)"
   ]
  },
  {
   "cell_type": "code",
   "execution_count": null,
   "metadata": {},
   "outputs": [],
   "source": [
    "corr = customer_df.corr()\n",
    "mask = np.zeros_like(corr)\n",
    "mask[np.triu_indices_from(mask, 0)] = True\n",
    "with sns.axes_style(\"white\"):\n",
    "    ax = sns.heatmap(corr, mask=mask, square=True, annot=True,\n",
    "                     cmap='RdBu', fmt='+.3f')\n",
    "    plt.xticks(rotation=45, ha='center')"
   ]
  },
  {
   "cell_type": "code",
   "execution_count": null,
   "metadata": {},
   "outputs": [],
   "source": []
  }
 ],
 "metadata": {
  "kernelspec": {
   "display_name": "Python 3",
   "language": "python",
   "name": "python3"
  },
  "language_info": {
   "codemirror_mode": {
    "name": "ipython",
    "version": 3
   },
   "file_extension": ".py",
   "mimetype": "text/x-python",
   "name": "python",
   "nbconvert_exporter": "python",
   "pygments_lexer": "ipython3",
   "version": "3.6.3"
  }
 },
 "nbformat": 4,
 "nbformat_minor": 2
}
